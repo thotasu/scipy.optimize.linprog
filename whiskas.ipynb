{
 "cells": [
  {
   "cell_type": "markdown",
   "metadata": {},
   "source": [
    "# The Simplified Whiskas Model using scipy.optimize.linprog\n",
    "\n",
    "#### Authors: Antony Phillips, Dr Stuart Mitchell  2007\n",
    "\n",
    "### Problem Description:\n",
    "\n",
    "Whiskas cat food is manufactured by Uncle Ben’s. Uncle Ben’s want to produce their cat food products as cheaply as possible while ensuring they meet the stated nutritional analysis requirements shown on the cans. Thus they want to vary the quantities of each ingredient used (the main ingredients being chicken, beef, mutton, rice, wheat and gel) while still meeting their nutritional standards. The costs of the chicken, beef, and mutton are \\$0.013, \\$0.008 and \\$0.010 respectively, while the costs of the rice, wheat and gel are \\$0.002, \\$0.005 and \\$0.001 respectively (all costs are per gram). For this exercise we will ignore the vitamin and mineral ingredients, any costs for these are likely to be very small anyway.\n",
    "\n",
    "Each ingredient contributes to the total weight of protein, fat, fiber and salt in the final product. The contributions per gram of ingredient are given in the table below.\n",
    "\n",
    "|Ingredient|Protein|Fat   |Fibre |Salt |\n",
    "|----------|-------|------|------|-----|\n",
    "|Chicken   |0.100  |0.080 |0.001 |0.002|\n",
    "|Beef      |0.200  |0.100 |0.005 |0.005|\n",
    "|Mutton\t   |0.150  |0.110 |0.003 |0.007|\n",
    "|Rice      |0.000  |0.010 |0.100 |0.002|\n",
    "|Wheat Bran|0.040  |0.010 |0.150 |0.008|\n",
    "*Ingredient's contribution (in grams)\n",
    "\n",
    "To meet the nutritional analysis requirements, we need to have at least 8g of Protein per 100g, 6g of fat, but no more than 2g of fiber and 0.4g of salt. Formulate the LP model that minimizes cost per can of cat food.\n",
    "\n",
    "\\# https://docs.scipy.org/doc/scipy-0.18.1/reference/generated/scipy.optimize.linprog.html\n"
   ]
  },
  {
   "cell_type": "code",
   "execution_count": 1,
   "metadata": {
    "collapsed": true
   },
   "outputs": [],
   "source": [
    "from scipy.optimize import linprog"
   ]
  },
  {
   "cell_type": "code",
   "execution_count": 2,
   "metadata": {
    "collapsed": false
   },
   "outputs": [
    {
     "name": "stdout",
     "output_type": "stream",
     "text": [
      "Optimization terminated successfully.\n",
      "         Current function value: 0.520000    \n",
      "         Iterations: 5\n",
      "     fun: 0.52000000000000002\n",
      " message: 'Optimization terminated successfully.'\n",
      "     nit: 5\n",
      "   slack: array([ 1.7,  0. ,  0. ,  0.1])\n",
      "  status: 0\n",
      " success: True\n",
      "       x: array([  0.,  60.,   0.,   0.,   0.,  40.])\n"
     ]
    }
   ],
   "source": [
    "objective_function = [0.013, 0.008, 0.010, 0.002, 0.005, 0.001]\n",
    "\n",
    "         # [ Chicken  Beef  Mutton  Rice  Wheat_Bran  Gel] \n",
    "lhs_ub =   [[-0.100,-0.200,-0.150, 0.000,-0.040, 0.000],    # Protein\n",
    "            [-0.080,-0.100,-0.110,-0.010,-0.010, 0.000],    # Fat\n",
    "            [ 0.001, 0.005, 0.003, 0.100, 0.150, 0.000],    # Fibre\n",
    "            [ 0.002, 0.005, 0.007, 0.002, 0.008, 0.000]]    # Salt\n",
    "    # [Protein Fat Fibre Salt]\n",
    "rhs_ub = [-8, -6, 2, 0.4]\n",
    "\n",
    "lhs_eq = [[1.000, 1.000, 1.000, 1.000, 1.000, 1.000]]\n",
    "rhs_eq = [100]\n",
    "\n",
    "# dot(A_ub, x) <= b_ub\n",
    "# dot(A_eq, x) == b_ub\n",
    "\n",
    "# In standard form, linear programming problems assume the variables x are non-negative\n",
    "# hence ignoring bounds parameter\n",
    "res = linprog(objective_function, A_ub=lhs_ub, b_ub=rhs_ub, A_eq=lhs_eq, b_eq=rhs_eq,\n",
    "              options={\"disp\": True})\n",
    "print(res)\n",
    "\n",
    "# Remember, x = [ Chicken  Beef  Mutton  Rice  Wheat_Bran  Gel] "
   ]
  },
  {
   "cell_type": "markdown",
   "metadata": {},
   "source": [
    "### Basic Example :"
   ]
  },
  {
   "cell_type": "code",
   "execution_count": 3,
   "metadata": {
    "collapsed": false,
    "scrolled": true
   },
   "outputs": [
    {
     "name": "stdout",
     "output_type": "stream",
     "text": [
      "Optimization terminated successfully.\n",
      "         Current function value: -22.000000  \n",
      "         Iterations: 1\n",
      "     fun: -22.0\n",
      " message: 'Optimization terminated successfully.'\n",
      "     nit: 1\n",
      "   slack: array([ 39.,   0.])\n",
      "  status: 0\n",
      " success: True\n",
      "       x: array([ 10.,  -3.])\n"
     ]
    }
   ],
   "source": [
    "c = [-1, 4]\n",
    "A = [[-3, 1], [1, 2]]\n",
    "b = [6, 4]\n",
    "x0_bounds = (None, None)\n",
    "x1_bounds = (-3, None)\n",
    "from scipy.optimize import linprog\n",
    "res = linprog(c, A_ub=A, b_ub=b, bounds=(x0_bounds, x1_bounds),\n",
    "              options={\"disp\": True})\n",
    "print(res)"
   ]
  }
 ],
 "metadata": {
  "kernelspec": {
   "display_name": "Python 3",
   "language": "python",
   "name": "python3"
  },
  "language_info": {
   "codemirror_mode": {
    "name": "ipython",
    "version": 3
   },
   "file_extension": ".py",
   "mimetype": "text/x-python",
   "name": "python",
   "nbconvert_exporter": "python",
   "pygments_lexer": "ipython3",
   "version": "3.6.0"
  }
 },
 "nbformat": 4,
 "nbformat_minor": 2
}
